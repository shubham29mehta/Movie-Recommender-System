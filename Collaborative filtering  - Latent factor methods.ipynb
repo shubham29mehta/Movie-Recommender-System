{
 "cells": [
  {
   "cell_type": "markdown",
   "id": "e0805a29",
   "metadata": {},
   "source": [
    "# Colloborative filtering with NMF Matrix Factorization"
   ]
  },
  {
   "cell_type": "markdown",
   "id": "7106f71e",
   "metadata": {},
   "source": [
    "**Objective: To build and evaluate a collaborative filtering with NMF factorization based recommender**"
   ]
  },
  {
   "cell_type": "code",
   "execution_count": 2,
   "id": "d2c973c5",
   "metadata": {},
   "outputs": [],
   "source": [
    "#Import the libraries\n",
    "\n",
    "import pandas as pd\n",
    "import numpy as np\n",
    "import seaborn as sns\n",
    "import matplotlib.pyplot as plt\n",
    "from scipy.sparse import csr_matrix\n",
    "import random\n",
    "import zipfile"
   ]
  },
  {
   "cell_type": "markdown",
   "id": "267429cd",
   "metadata": {},
   "source": [
    "## Getting the data"
   ]
  },
  {
   "cell_type": "code",
   "execution_count": 3,
   "id": "b5f6cf8d",
   "metadata": {},
   "outputs": [
    {
     "data": {
      "text/plain": [
       "18856822"
      ]
     },
     "execution_count": 3,
     "metadata": {},
     "output_type": "execute_result"
    }
   ],
   "source": [
    "#Getting the dataset\n",
    "dataset_urls=[\n",
    "    'http://files.grouplens.org/datasets/hetrec2011/hetrec2011-movielens-2k-v2.zip',\n",
    "    'http://files.grouplens.org/datasets/hetrec2011/hetrec2011-lastfm-2k.zip',\n",
    "    'http://files.grouplens.org/datasets/hetrec2011/hetrec2011-delicious-2k.zip'\n",
    "]\n",
    "\n",
    "dataset_url=dataset_urls[0]\n",
    "dataset_name=dataset_url[dataset_url.rfind('/')+1:]\n",
    "\n",
    "# Download the dataset\n",
    "import requests\n",
    "r = requests.get(dataset_url, allow_redirects=True)\n",
    "open(dataset_name, 'wb').write(r.content)"
   ]
  },
  {
   "cell_type": "markdown",
   "id": "00b07a92",
   "metadata": {},
   "source": [
    "## Reading the target file in pandas"
   ]
  },
  {
   "cell_type": "code",
   "execution_count": 4,
   "id": "0d53ac03",
   "metadata": {},
   "outputs": [
    {
     "name": "stdout",
     "output_type": "stream",
     "text": [
      "Files in  hetrec2011-movielens-2k-v2.zip\n",
      "user_taggedmovies-timestamps.dat\n",
      "movie_actors.dat\n",
      "movie_countries.dat\n",
      "movie_directors.dat\n",
      "movie_genres.dat\n",
      "movie_locations.dat\n",
      "movie_tags.dat\n",
      "movies.dat\n",
      "readme.txt\n",
      "tags.dat\n",
      "user_ratedmovies.dat\n",
      "user_ratedmovies-timestamps.dat\n",
      "user_taggedmovies.dat\n",
      "\n",
      "Initial content in  user_ratedmovies-timestamps.dat\n",
      "   userID  movieID  rating      timestamp\n",
      "0      75        3     1.0  1162160236000\n",
      "1      75       32     4.5  1162160624000\n",
      "2      75      110     4.0  1162161008000\n",
      "3      75      160     2.0  1162160212000\n",
      "4      75      163     4.0  1162160970000\n"
     ]
    }
   ],
   "source": [
    "# inspect the files in the dataset\n",
    "print('Files in ', dataset_name)\n",
    "with zipfile.ZipFile(dataset_name) as z:\n",
    "    for name in z.namelist():\n",
    "        print(name)\n",
    "print()\n",
    "\n",
    "# We use the file that contains user, items, and their ratings\n",
    "target_file='user_ratedmovies-timestamps.dat'\n",
    "print('Initial content in ', target_file)\n",
    "with zipfile.ZipFile(dataset_name) as z:\n",
    "   with z.open(target_file) as f:\n",
    "      data = pd.read_csv(f, header=0, delimiter=\"\\t\")\n",
    "      print(data.head())    "
   ]
  },
  {
   "cell_type": "markdown",
   "id": "780abe9f",
   "metadata": {},
   "source": [
    "## Reading the movies data"
   ]
  },
  {
   "cell_type": "code",
   "execution_count": 5,
   "id": "22a6e230",
   "metadata": {},
   "outputs": [
    {
     "name": "stdout",
     "output_type": "stream",
     "text": [
      "Initial content in  movies.dat\n"
     ]
    },
    {
     "data": {
      "text/html": [
       "<div>\n",
       "<style scoped>\n",
       "    .dataframe tbody tr th:only-of-type {\n",
       "        vertical-align: middle;\n",
       "    }\n",
       "\n",
       "    .dataframe tbody tr th {\n",
       "        vertical-align: top;\n",
       "    }\n",
       "\n",
       "    .dataframe thead th {\n",
       "        text-align: right;\n",
       "    }\n",
       "</style>\n",
       "<table border=\"1\" class=\"dataframe\">\n",
       "  <thead>\n",
       "    <tr style=\"text-align: right;\">\n",
       "      <th></th>\n",
       "      <th>id</th>\n",
       "      <th>title</th>\n",
       "      <th>imdbID</th>\n",
       "      <th>spanishTitle</th>\n",
       "      <th>imdbPictureURL</th>\n",
       "      <th>year</th>\n",
       "      <th>rtID</th>\n",
       "      <th>rtAllCriticsRating</th>\n",
       "      <th>rtAllCriticsNumReviews</th>\n",
       "      <th>rtAllCriticsNumFresh</th>\n",
       "      <th>...</th>\n",
       "      <th>rtAllCriticsScore</th>\n",
       "      <th>rtTopCriticsRating</th>\n",
       "      <th>rtTopCriticsNumReviews</th>\n",
       "      <th>rtTopCriticsNumFresh</th>\n",
       "      <th>rtTopCriticsNumRotten</th>\n",
       "      <th>rtTopCriticsScore</th>\n",
       "      <th>rtAudienceRating</th>\n",
       "      <th>rtAudienceNumRatings</th>\n",
       "      <th>rtAudienceScore</th>\n",
       "      <th>rtPictureURL</th>\n",
       "    </tr>\n",
       "  </thead>\n",
       "  <tbody>\n",
       "    <tr>\n",
       "      <th>0</th>\n",
       "      <td>1</td>\n",
       "      <td>Toy story</td>\n",
       "      <td>114709</td>\n",
       "      <td>Toy story (juguetes)</td>\n",
       "      <td>http://ia.media-imdb.com/images/M/MV5BMTMwNDU0...</td>\n",
       "      <td>1995</td>\n",
       "      <td>toy_story</td>\n",
       "      <td>9</td>\n",
       "      <td>73</td>\n",
       "      <td>73</td>\n",
       "      <td>...</td>\n",
       "      <td>100</td>\n",
       "      <td>8.5</td>\n",
       "      <td>17</td>\n",
       "      <td>17</td>\n",
       "      <td>0</td>\n",
       "      <td>100</td>\n",
       "      <td>3.7</td>\n",
       "      <td>102338</td>\n",
       "      <td>81</td>\n",
       "      <td>http://content7.flixster.com/movie/10/93/63/10...</td>\n",
       "    </tr>\n",
       "    <tr>\n",
       "      <th>1</th>\n",
       "      <td>2</td>\n",
       "      <td>Jumanji</td>\n",
       "      <td>113497</td>\n",
       "      <td>Jumanji</td>\n",
       "      <td>http://ia.media-imdb.com/images/M/MV5BMzM5NjE1...</td>\n",
       "      <td>1995</td>\n",
       "      <td>1068044-jumanji</td>\n",
       "      <td>5.6</td>\n",
       "      <td>28</td>\n",
       "      <td>13</td>\n",
       "      <td>...</td>\n",
       "      <td>46</td>\n",
       "      <td>5.8</td>\n",
       "      <td>5</td>\n",
       "      <td>2</td>\n",
       "      <td>3</td>\n",
       "      <td>40</td>\n",
       "      <td>3.2</td>\n",
       "      <td>44587</td>\n",
       "      <td>61</td>\n",
       "      <td>http://content8.flixster.com/movie/56/79/73/56...</td>\n",
       "    </tr>\n",
       "    <tr>\n",
       "      <th>2</th>\n",
       "      <td>3</td>\n",
       "      <td>Grumpy Old Men</td>\n",
       "      <td>107050</td>\n",
       "      <td>Dos viejos gruñones</td>\n",
       "      <td>http://ia.media-imdb.com/images/M/MV5BMTI5MTgy...</td>\n",
       "      <td>1993</td>\n",
       "      <td>grumpy_old_men</td>\n",
       "      <td>5.9</td>\n",
       "      <td>36</td>\n",
       "      <td>24</td>\n",
       "      <td>...</td>\n",
       "      <td>66</td>\n",
       "      <td>7</td>\n",
       "      <td>6</td>\n",
       "      <td>5</td>\n",
       "      <td>1</td>\n",
       "      <td>83</td>\n",
       "      <td>3.2</td>\n",
       "      <td>10489</td>\n",
       "      <td>66</td>\n",
       "      <td>http://content6.flixster.com/movie/25/60/25602...</td>\n",
       "    </tr>\n",
       "    <tr>\n",
       "      <th>3</th>\n",
       "      <td>4</td>\n",
       "      <td>Waiting to Exhale</td>\n",
       "      <td>114885</td>\n",
       "      <td>Esperando un respiro</td>\n",
       "      <td>http://ia.media-imdb.com/images/M/MV5BMTczMTMy...</td>\n",
       "      <td>1995</td>\n",
       "      <td>waiting_to_exhale</td>\n",
       "      <td>5.6</td>\n",
       "      <td>25</td>\n",
       "      <td>14</td>\n",
       "      <td>...</td>\n",
       "      <td>56</td>\n",
       "      <td>5.5</td>\n",
       "      <td>11</td>\n",
       "      <td>5</td>\n",
       "      <td>6</td>\n",
       "      <td>45</td>\n",
       "      <td>3.3</td>\n",
       "      <td>5666</td>\n",
       "      <td>79</td>\n",
       "      <td>http://content9.flixster.com/movie/10/94/17/10...</td>\n",
       "    </tr>\n",
       "    <tr>\n",
       "      <th>4</th>\n",
       "      <td>5</td>\n",
       "      <td>Father of the Bride Part II</td>\n",
       "      <td>113041</td>\n",
       "      <td>Vuelve el padre de la novia (Ahora también abu...</td>\n",
       "      <td>http://ia.media-imdb.com/images/M/MV5BMTg1NDc2...</td>\n",
       "      <td>1995</td>\n",
       "      <td>father_of_the_bride_part_ii</td>\n",
       "      <td>5.3</td>\n",
       "      <td>19</td>\n",
       "      <td>9</td>\n",
       "      <td>...</td>\n",
       "      <td>47</td>\n",
       "      <td>5.4</td>\n",
       "      <td>5</td>\n",
       "      <td>1</td>\n",
       "      <td>4</td>\n",
       "      <td>20</td>\n",
       "      <td>3</td>\n",
       "      <td>13761</td>\n",
       "      <td>64</td>\n",
       "      <td>http://content8.flixster.com/movie/25/54/25542...</td>\n",
       "    </tr>\n",
       "  </tbody>\n",
       "</table>\n",
       "<p>5 rows × 21 columns</p>\n",
       "</div>"
      ],
      "text/plain": [
       "   id                        title  imdbID  \\\n",
       "0   1                    Toy story  114709   \n",
       "1   2                      Jumanji  113497   \n",
       "2   3               Grumpy Old Men  107050   \n",
       "3   4            Waiting to Exhale  114885   \n",
       "4   5  Father of the Bride Part II  113041   \n",
       "\n",
       "                                        spanishTitle  \\\n",
       "0                               Toy story (juguetes)   \n",
       "1                                            Jumanji   \n",
       "2                                Dos viejos gruñones   \n",
       "3                               Esperando un respiro   \n",
       "4  Vuelve el padre de la novia (Ahora también abu...   \n",
       "\n",
       "                                      imdbPictureURL  year  \\\n",
       "0  http://ia.media-imdb.com/images/M/MV5BMTMwNDU0...  1995   \n",
       "1  http://ia.media-imdb.com/images/M/MV5BMzM5NjE1...  1995   \n",
       "2  http://ia.media-imdb.com/images/M/MV5BMTI5MTgy...  1993   \n",
       "3  http://ia.media-imdb.com/images/M/MV5BMTczMTMy...  1995   \n",
       "4  http://ia.media-imdb.com/images/M/MV5BMTg1NDc2...  1995   \n",
       "\n",
       "                          rtID rtAllCriticsRating rtAllCriticsNumReviews  \\\n",
       "0                    toy_story                  9                     73   \n",
       "1              1068044-jumanji                5.6                     28   \n",
       "2               grumpy_old_men                5.9                     36   \n",
       "3            waiting_to_exhale                5.6                     25   \n",
       "4  father_of_the_bride_part_ii                5.3                     19   \n",
       "\n",
       "  rtAllCriticsNumFresh  ... rtAllCriticsScore rtTopCriticsRating  \\\n",
       "0                   73  ...               100                8.5   \n",
       "1                   13  ...                46                5.8   \n",
       "2                   24  ...                66                  7   \n",
       "3                   14  ...                56                5.5   \n",
       "4                    9  ...                47                5.4   \n",
       "\n",
       "  rtTopCriticsNumReviews rtTopCriticsNumFresh rtTopCriticsNumRotten  \\\n",
       "0                     17                   17                     0   \n",
       "1                      5                    2                     3   \n",
       "2                      6                    5                     1   \n",
       "3                     11                    5                     6   \n",
       "4                      5                    1                     4   \n",
       "\n",
       "  rtTopCriticsScore rtAudienceRating rtAudienceNumRatings rtAudienceScore  \\\n",
       "0               100              3.7               102338              81   \n",
       "1                40              3.2                44587              61   \n",
       "2                83              3.2                10489              66   \n",
       "3                45              3.3                 5666              79   \n",
       "4                20                3                13761              64   \n",
       "\n",
       "                                        rtPictureURL  \n",
       "0  http://content7.flixster.com/movie/10/93/63/10...  \n",
       "1  http://content8.flixster.com/movie/56/79/73/56...  \n",
       "2  http://content6.flixster.com/movie/25/60/25602...  \n",
       "3  http://content9.flixster.com/movie/10/94/17/10...  \n",
       "4  http://content8.flixster.com/movie/25/54/25542...  \n",
       "\n",
       "[5 rows x 21 columns]"
      ]
     },
     "execution_count": 5,
     "metadata": {},
     "output_type": "execute_result"
    }
   ],
   "source": [
    "target_file='movies.dat'\n",
    "print('Initial content in ', target_file)\n",
    "with zipfile.ZipFile(dataset_name) as z:\n",
    "   with z.open(target_file) as f:\n",
    "      movies = pd.read_csv(f, header=0, delimiter=\"\\t\",encoding = 'ISO-8859-1')\n",
    "    \n",
    "movies.head()"
   ]
  },
  {
   "cell_type": "code",
   "execution_count": 6,
   "id": "cf3c7e3d",
   "metadata": {},
   "outputs": [],
   "source": [
    "#joining the ratings data with movies to get the movie names\n",
    "data2 = data.merge(movies,how = 'left',left_on = 'movieID', right_on = 'id')"
   ]
  },
  {
   "cell_type": "code",
   "execution_count": 7,
   "id": "5700e99c",
   "metadata": {},
   "outputs": [],
   "source": [
    "#Final ratings data with movie names\n",
    "ratings = data2[['userID','movieID','rating','title']]"
   ]
  },
  {
   "cell_type": "markdown",
   "id": "e82ce305",
   "metadata": {},
   "source": [
    "## Splitting the data for future evaluation"
   ]
  },
  {
   "cell_type": "code",
   "execution_count": 8,
   "id": "1dcd642d",
   "metadata": {},
   "outputs": [],
   "source": [
    "# random.seed(1)\n",
    "\n",
    "# ratio=0.8 # 80% of the data is kept in training\n",
    "# mask = np.random.rand(len(ratings)) < ratio\n",
    "# train_ratings = ratings[mask]\n",
    "# test_ratings = ratings[~mask]\n",
    "\n",
    "# pd.to_pickle(train_ratings, 'train_df', protocol=4)\n",
    "# pd.to_pickle(test_ratings, 'test_df', protocol=4)"
   ]
  },
  {
   "cell_type": "code",
   "execution_count": 9,
   "id": "70a31746",
   "metadata": {},
   "outputs": [
    {
     "name": "stdout",
     "output_type": "stream",
     "text": [
      "Total:855598, Train: 683989,Test:171609\n"
     ]
    }
   ],
   "source": [
    "#Loading the whole data from pickle files\n",
    "train_ratings = pd.read_pickle('train_df')\n",
    "test_ratings = pd.read_pickle('test_df')\n",
    "\n",
    "print(f'Total:{len(ratings)}, Train: {len(train_ratings)},Test:{len(test_ratings)}')"
   ]
  },
  {
   "cell_type": "code",
   "execution_count": 10,
   "id": "25f3bee6",
   "metadata": {},
   "outputs": [
    {
     "data": {
      "text/plain": [
       "set()"
      ]
     },
     "execution_count": 10,
     "metadata": {},
     "output_type": "execute_result"
    }
   ],
   "source": [
    "#check if every user which is in test data is also in training\n",
    "\n",
    "set(test_ratings['userID']).difference(set(train_ratings['userID']))"
   ]
  },
  {
   "cell_type": "code",
   "execution_count": 11,
   "id": "ce2c7bdc",
   "metadata": {},
   "outputs": [
    {
     "data": {
      "text/plain": [
       "130"
      ]
     },
     "execution_count": 11,
     "metadata": {},
     "output_type": "execute_result"
    }
   ],
   "source": [
    "#check if every movie which is in test data is also in training\n",
    "\n",
    "len(set(test_ratings['movieID']).difference(set(train_ratings['movieID'])))"
   ]
  },
  {
   "cell_type": "code",
   "execution_count": 12,
   "id": "fbd337a8",
   "metadata": {},
   "outputs": [],
   "source": [
    "#these movies should not be considered when evaluting the recommender\n",
    "excluded_movies = set(test_ratings['movieID']).difference(set(train_ratings['movieID']))"
   ]
  },
  {
   "cell_type": "code",
   "execution_count": 13,
   "id": "13819981",
   "metadata": {},
   "outputs": [],
   "source": [
    "#Utility matrix for user based similarities (users in rows and items in columns)\n",
    "from scipy.sparse import csr_matrix\n",
    "\n",
    "def create_X_users(df):\n",
    "    \"\"\"\n",
    "    Generates a sparse matrix from ratings dataframe. (Users * Items)\n",
    "\n",
    "    Args:\n",
    "        df: pandas dataframe containing 3 columns (userId, movieId, rating)\n",
    "\n",
    "    Returns:\n",
    "        X: sparse matrix\n",
    "        user_mapper: dict that maps user id's to user indices\n",
    "        user_inv_mapper: dict that maps user indices to user id's\n",
    "        movie_mapper: dict that maps movie id's to movie indices\n",
    "        movie_inv_mapper: dict that maps movie indices to movie id's\n",
    "    \"\"\"\n",
    "    M = df['userID'].nunique()\n",
    "    N = df['movieID'].nunique()\n",
    "\n",
    "    user_mapper = dict(zip(np.unique(df[\"userID\"]), list(range(M))))\n",
    "    movie_mapper = dict(zip(np.unique(df[\"movieID\"]), list(range(N))))\n",
    "    movie_name_mapper = dict(zip(ratings['movieID'],ratings['title']))\n",
    "\n",
    "    user_inv_mapper = dict(zip(list(range(M)), np.unique(df[\"userID\"])))\n",
    "    movie_inv_mapper = dict(zip(list(range(N)), np.unique(df[\"movieID\"])))\n",
    "\n",
    "    user_index = [user_mapper[i] for i in df['userID']]\n",
    "    item_index = [movie_mapper[i] for i in df['movieID']]\n",
    "\n",
    "    X = csr_matrix((df[\"rating\"], (user_index,item_index)), shape=(M,N))\n",
    "\n",
    "    return X, user_mapper, movie_mapper, user_inv_mapper, movie_inv_mapper,movie_name_mapper\n",
    "\n",
    "user_item_matrix, user_mapper, movie_mapper, user_inv_mapper, movie_inv_mapper,movie_name_mapper = create_X_users(train_ratings)\n"
   ]
  },
  {
   "cell_type": "code",
   "execution_count": 14,
   "id": "b8c642b7",
   "metadata": {},
   "outputs": [
    {
     "data": {
      "text/plain": [
       "((2113, 9979), 683989)"
      ]
     },
     "execution_count": 14,
     "metadata": {},
     "output_type": "execute_result"
    }
   ],
   "source": [
    "user_item_matrix.shape,user_item_matrix.count_nonzero()"
   ]
  },
  {
   "cell_type": "markdown",
   "id": "268b059d",
   "metadata": {},
   "source": [
    "## User Item matrix factorization using NMF"
   ]
  },
  {
   "cell_type": "code",
   "execution_count": 15,
   "id": "216d93b1",
   "metadata": {},
   "outputs": [
    {
     "name": "stderr",
     "output_type": "stream",
     "text": [
      "/Users/shubhammehta/opt/anaconda3/lib/python3.8/site-packages/sklearn/decomposition/_nmf.py:289: FutureWarning: The 'init' value, when 'init=None' and n_components is less than n_samples and n_features, will be changed from 'nndsvd' to 'nndsvda' in 1.1 (renaming of 0.26).\n",
      "  warnings.warn(\n"
     ]
    },
    {
     "name": "stdout",
     "output_type": "stream",
     "text": [
      "(2113, 10) (10, 9979)\n"
     ]
    },
    {
     "name": "stderr",
     "output_type": "stream",
     "text": [
      "/Users/shubhammehta/opt/anaconda3/lib/python3.8/site-packages/sklearn/decomposition/_nmf.py:1637: ConvergenceWarning: Maximum number of iterations 200 reached. Increase it to improve convergence.\n",
      "  warnings.warn(\n"
     ]
    }
   ],
   "source": [
    "from sklearn.decomposition import NMF\n",
    "\n",
    "num_factors= 10\n",
    "model = NMF(n_components=num_factors)\n",
    "W = model.fit_transform(user_item_matrix)\n",
    "H = model.components_\n",
    "print(W.shape, H.shape)"
   ]
  },
  {
   "cell_type": "code",
   "execution_count": 16,
   "id": "cc5e4cd2",
   "metadata": {},
   "outputs": [],
   "source": [
    "#new user item matrix\n",
    "\n",
    "new_user_item_matrix = model.inverse_transform(W)"
   ]
  },
  {
   "cell_type": "code",
   "execution_count": 17,
   "id": "339de762",
   "metadata": {},
   "outputs": [],
   "source": [
    "# from sklearn.decomposition import TruncatedSVD\n",
    "\n",
    "# svd = TruncatedSVD(n_components=20, n_iter=10)\n",
    "# Z = svd.fit_transform(user_item_matrix)\n",
    "\n",
    "# new_user_item_matrix = svd.inverse_transform(Z)"
   ]
  },
  {
   "cell_type": "markdown",
   "id": "7c268582",
   "metadata": {},
   "source": [
    "## Latent factor based recommendations : Top 10"
   ]
  },
  {
   "cell_type": "code",
   "execution_count": 18,
   "id": "6876c24a",
   "metadata": {},
   "outputs": [],
   "source": [
    "def candidate_items_for_user(df, user):\n",
    "    \"\"\"\n",
    "    Returns the candidate movies which can be recommended to a uset\n",
    "\n",
    "    Args:\n",
    "        data: train ratings data (pandas dataframe)\n",
    "\n",
    "    Returns:\n",
    "        a set of candidate movie id's\n",
    "    \"\"\"\n",
    "    all_movies = set(df['movieID'].unique())\n",
    "    user_movies = set(df[df['userID'] == user]['movieID'].unique())\n",
    "    cand_items = all_movies.difference(user_movies)\n",
    "    return set(cand_items)"
   ]
  },
  {
   "cell_type": "code",
   "execution_count": 19,
   "id": "8ea5b6a1",
   "metadata": {},
   "outputs": [],
   "source": [
    "def latent_factor_based_recommender(df,user):\n",
    "    \"\"\"\n",
    "    Generates a dictionary with movies as keys and predicted ratings a values for a user (sorted by values in desc)\n",
    "\n",
    "    Args:\n",
    "        df: training ratings data (pandas dataframe)\n",
    "        user: userid (int)\n",
    "\n",
    "    Returns:\n",
    "        A dictionary of movies, predicting ratings sorted by predicted ratings\n",
    "    \"\"\"\n",
    "    \n",
    "    cand_scores = {}\n",
    "\n",
    "    cand_items = candidate_items_for_user(train_ratings,75)\n",
    "    for movie_id in cand_items:\n",
    "        movie_index = movie_mapper[movie_id]\n",
    "        cand_scores[movie_id] = new_user_item_matrix[user_mapper[75],movie_index]\n",
    "    return dict(sorted(cand_scores.items(),key = lambda cand_scores:cand_scores[1],reverse = True))"
   ]
  },
  {
   "cell_type": "code",
   "execution_count": 20,
   "id": "48f68862",
   "metadata": {},
   "outputs": [
    {
     "name": "stdout",
     "output_type": "stream",
     "text": [
      "1 The Matrix\n",
      "2 Forrest Gump\n",
      "3 Fight Club\n",
      "4 The Shawshank Redemption\n",
      "5 Star Wars\n",
      "6 Shrek\n",
      "7 Star Wars: Episode V - The Empire Strikes Back\n",
      "8 Gladiator\n",
      "9 Pirates of the Caribbean: The Curse of the Black Pearl\n",
      "10 Minority Report\n"
     ]
    }
   ],
   "source": [
    "#top 10 recommendations for a user\n",
    "for i,movieid in enumerate(latent_factor_based_recommender(train_ratings,75)):\n",
    "    if i <=9:\n",
    "        print(i+1,movie_name_mapper[movieid])"
   ]
  },
  {
   "cell_type": "markdown",
   "id": "26b4cd95",
   "metadata": {},
   "source": [
    "## Evaluating the recommender"
   ]
  },
  {
   "cell_type": "code",
   "execution_count": 21,
   "id": "311ff4ea",
   "metadata": {},
   "outputs": [],
   "source": [
    "#since every user in the test is present in train, we will evalute the recommender on all the users\n",
    "\n",
    "#since not every movie which is in test, is not in train we will exclude those movies as there is no way that\n",
    "#our recommnder gives prediction for those movies\n",
    "\n",
    "def evaluate_recommender(test_df):\n",
    "    \"\"\"\n",
    "    Generates the MAE and RMSE score\n",
    "\n",
    "    Args:\n",
    "        test_df: testing ratings data (pandas dataframe)\n",
    "    Returns:\n",
    "        MAE and RMSE score (tuple)\n",
    "    \"\"\"\n",
    "    test_df = test_df[~test_df['movieID'].isin(excluded_movies)]      #exclude the excluded movies\n",
    "    \n",
    "    abs_err,sq_err,n = 0,0,0\n",
    "    for userid in set(test_df['userID']):\n",
    "        user_index = user_mapper[userid]\n",
    "        user_test_df = test_df[test_df['userID'] == userid]\n",
    "        user_test_movies = list(user_test_df['movieID'])\n",
    "        user_actual_ratings = np.array(user_test_df[user_test_df['movieID'] == user_test_movies]['rating'])\n",
    "        user_test_movies_indexes = [movie_mapper[x] for x in user_test_movies]\n",
    "        user_pred_ratings = np.array(new_user_item_matrix[user_index][user_test_movies_indexes])\n",
    "        \n",
    "        abs_err += np.sum(np.abs(np.subtract(user_actual_ratings,user_pred_ratings)))\n",
    "        sq_err += np.sum(np.subtract(user_actual_ratings,user_pred_ratings)**2)\n",
    "        n += len(user_actual_ratings)\n",
    "        \n",
    "    mae = abs_err/n\n",
    "    rmse = np.sqrt(sq_err/n)\n",
    "    \n",
    "    return mae,rmse"
   ]
  },
  {
   "cell_type": "code",
   "execution_count": 37,
   "id": "f660f041",
   "metadata": {},
   "outputs": [],
   "source": [
    "#checking the number of factors and corresponding test and train errors\n",
    "\n",
    "import warnings\n",
    "warnings.filterwarnings(\"ignore\")\n",
    "\n",
    "latent_factors = []\n",
    "train_mae = []\n",
    "train_rmse = []\n",
    "test_mae = []\n",
    "test_rmse = []\n",
    "\n",
    "\n",
    "for num_factors in np.arange(10,200+10,20):\n",
    "\n",
    "    model = NMF(n_components=num_factors)\n",
    "    W = model.fit_transform(user_item_matrix)\n",
    "    new_user_item_matrix = model.inverse_transform(W)\n",
    "    latent_factors.append(num_factors)\n",
    "    \n",
    "    #train errors\n",
    "    train_err = evaluate_recommender(train_ratings)\n",
    "    train_mae.append(train_err[0])\n",
    "    train_rmse.append(train_err[1])\n",
    "    \n",
    "    #test errors\n",
    "    test_err = evaluate_recommender(test_ratings)\n",
    "    test_mae.append(test_err[0])\n",
    "    test_rmse.append(test_err[1])"
   ]
  },
  {
   "cell_type": "code",
   "execution_count": 38,
   "id": "edb145dd",
   "metadata": {},
   "outputs": [
    {
     "data": {
      "image/png": "[encoded data removed]",
      "text/plain": [
       "<Figure size 432x288 with 2 Axes>"
      ]
     },
     "metadata": {
      "needs_background": "light"
     },
     "output_type": "display_data"
    }
   ],
   "source": [
    "# plotting the train and test accuracies\n",
    "fig, ax1 = plt.subplots()\n",
    "\n",
    "color = 'tab:orange'\n",
    "ax1.set_xlabel('Number of Latent Features')\n",
    "ax1.set_ylabel('RMSE for Training',color=color)\n",
    "ax1.plot(latent_factors, train_mae, color=color)\n",
    "\n",
    "ax1.tick_params(axis='y',color=color)\n",
    "ax1.set_title('RMSE vs. Number of Latent Features')\n",
    "\n",
    "ax2 = ax1.twinx()  # instantiate a second axes that shares the same x-axis\n",
    "\n",
    "color = 'tab:blue'\n",
    "ax2.set_ylabel('RMSE for Test', color=color)\n",
    "ax2.plot(latent_factors, test_mae, color=color)\n",
    "ax2.tick_params(axis='y', labelcolor=color)\n",
    "\n",
    "fig.tight_layout()  # otherwise the right y-label is slightly clipped\n",
    "plt.show()"
   ]
  },
  {
   "cell_type": "markdown",
   "id": "69d0b9bd",
   "metadata": {},
   "source": [
    "**From above plot, we can see that the accuracy for the training data increases with an increase in the number of latent features, however the opposite is true for the accuracy of the test data. This is most likely due to overfitting of the data with the increase in latent features, therefore the number of latent features should be kept around 30** "
   ]
  },
  {
   "cell_type": "markdown",
   "id": "796c925c",
   "metadata": {},
   "source": [
    "**When using NMF we often experience the cold start problem. That is, we can only make predictions for movies and users that exist in both the training and test sets. For users in the test dataset that are not in the training set, we cannot predict movies to recommend to that user. To improve upon our recommendation engine for new users, we could use a blended techniques of collaborative filtering based, and content based recommendations. We could also conduct an A/B test to best understand which recommendation technique should be employed.**"
   ]
  }
 ],
 "metadata": {
  "kernelspec": {
   "display_name": "Python 3 (ipykernel)",
   "language": "python",
   "name": "python3"
  },
  "language_info": {
   "codemirror_mode": {
    "name": "ipython",
    "version": 3
   },
   "file_extension": ".py",
   "mimetype": "text/x-python",
   "name": "python",
   "nbconvert_exporter": "python",
   "pygments_lexer": "ipython3",
   "version": "3.8.12"
  }
 },
 "nbformat": 4,
 "nbformat_minor": 5
}
