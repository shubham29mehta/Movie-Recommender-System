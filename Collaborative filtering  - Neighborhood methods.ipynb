{
 "cells": [
  {
   "cell_type": "markdown",
   "id": "f37d9832",
   "metadata": {},
   "source": [
    "# User based and Item Based collaborative filtering"
   ]
  },
  {
   "cell_type": "markdown",
   "id": "6ae9514b",
   "metadata": {},
   "source": [
    "**Objective: To compare user based and item based collaborative filtering based recommenders**"
   ]
  },
  {
   "cell_type": "code",
   "execution_count": 1,
   "id": "305b6989",
   "metadata": {},
   "outputs": [],
   "source": [
    "#Import the libraries\n",
    "\n",
    "import pandas as pd\n",
    "import numpy as np\n",
    "import seaborn as sns\n",
    "import matplotlib.pyplot as plt\n",
    "from scipy.sparse import csr_matrix\n",
    "import random\n",
    "import zipfile"
   ]
  },
  {
   "cell_type": "markdown",
   "id": "c417c9f1",
   "metadata": {},
   "source": [
    "## Getting the dataset"
   ]
  },
  {
   "cell_type": "code",
   "execution_count": 2,
   "id": "942ff4a6",
   "metadata": {},
   "outputs": [
    {
     "data": {
      "text/plain": [
       "18856822"
      ]
     },
     "execution_count": 2,
     "metadata": {},
     "output_type": "execute_result"
    }
   ],
   "source": [
    "#Getting the dataset\n",
    "dataset_urls=[\n",
    "    'http://files.grouplens.org/datasets/hetrec2011/hetrec2011-movielens-2k-v2.zip',\n",
    "    'http://files.grouplens.org/datasets/hetrec2011/hetrec2011-lastfm-2k.zip',\n",
    "    'http://files.grouplens.org/datasets/hetrec2011/hetrec2011-delicious-2k.zip'\n",
    "]\n",
    "\n",
    "dataset_url=dataset_urls[0]\n",
    "dataset_name=dataset_url[dataset_url.rfind('/')+1:]\n",
    "\n",
    "# Download the dataset\n",
    "import requests\n",
    "r = requests.get(dataset_url, allow_redirects=True)\n",
    "open(dataset_name, 'wb').write(r.content)"
   ]
  },
  {
   "cell_type": "markdown",
   "id": "33c3a2b3",
   "metadata": {},
   "source": [
    "## Reading the target file in pandas"
   ]
  },
  {
   "cell_type": "code",
   "execution_count": 3,
   "id": "d1653c23",
   "metadata": {},
   "outputs": [
    {
     "name": "stdout",
     "output_type": "stream",
     "text": [
      "Files in  hetrec2011-movielens-2k-v2.zip\n",
      "user_taggedmovies-timestamps.dat\n",
      "movie_actors.dat\n",
      "movie_countries.dat\n",
      "movie_directors.dat\n",
      "movie_genres.dat\n",
      "movie_locations.dat\n",
      "movie_tags.dat\n",
      "movies.dat\n",
      "readme.txt\n",
      "tags.dat\n",
      "user_ratedmovies.dat\n",
      "user_ratedmovies-timestamps.dat\n",
      "user_taggedmovies.dat\n",
      "\n",
      "Initial content in  user_ratedmovies-timestamps.dat\n",
      "   userID  movieID  rating      timestamp\n",
      "0      75        3     1.0  1162160236000\n",
      "1      75       32     4.5  1162160624000\n",
      "2      75      110     4.0  1162161008000\n",
      "3      75      160     2.0  1162160212000\n",
      "4      75      163     4.0  1162160970000\n"
     ]
    }
   ],
   "source": [
    "# inspect the files in the dataset\n",
    "print('Files in ', dataset_name)\n",
    "with zipfile.ZipFile(dataset_name) as z:\n",
    "    for name in z.namelist():\n",
    "        print(name)\n",
    "print()\n",
    "\n",
    "# We use the file that contains user, items, and their ratings\n",
    "target_file='user_ratedmovies-timestamps.dat'\n",
    "print('Initial content in ', target_file)\n",
    "with zipfile.ZipFile(dataset_name) as z:\n",
    "   with z.open(target_file) as f:\n",
    "      data = pd.read_csv(f, header=0, delimiter=\"\\t\")\n",
    "      print(data.head())    "
   ]
  },
  {
   "cell_type": "markdown",
   "id": "d3c13f39",
   "metadata": {},
   "source": [
    "## Basic Data stats"
   ]
  },
  {
   "cell_type": "code",
   "execution_count": 4,
   "id": "dbac13cf",
   "metadata": {},
   "outputs": [
    {
     "name": "stdout",
     "output_type": "stream",
     "text": [
      "Number of users : 2113\n",
      "Number of movies : 10109\n",
      "Highest rating: 5.0 ,Lowest rating: 0.5\n",
      "Number of ratings : 855598\n",
      "Density: 0.040055491685820954\n",
      "Sparsity: 0.9599445083141791\n"
     ]
    }
   ],
   "source": [
    "nusers = data.userID.nunique()\n",
    "nitems = data.movieID.nunique()\n",
    "print(f'Number of users : {nusers}')\n",
    "print(f'Number of movies : {nitems}')\n",
    "print(f'Highest rating: {max(data.rating)} ,Lowest rating: {min(data.rating)}')\n",
    "print(f'Number of ratings : {len(data.rating)}')\n",
    "\n",
    "density = len(data.rating)/(nusers*nitems)\n",
    "sparsity = 1 - density\n",
    "print(f'Density: {density}')\n",
    "print(f'Sparsity: {sparsity}')"
   ]
  },
  {
   "cell_type": "markdown",
   "id": "12e83bbf",
   "metadata": {},
   "source": [
    "**96 % of the data is sparse**"
   ]
  },
  {
   "cell_type": "code",
   "execution_count": 5,
   "id": "cb90a138",
   "metadata": {},
   "outputs": [
    {
     "data": {
      "image/png": "[encoded data removed]",
      "text/plain": [
       "<Figure size 432x288 with 1 Axes>"
      ]
     },
     "metadata": {
      "needs_background": "light"
     },
     "output_type": "display_data"
    }
   ],
   "source": [
    "#barplot of rating values\n",
    "\n",
    "ax = sns.countplot(x = data.rating)\n",
    "for container in ax.containers:\n",
    "    ax.bar_label(container)"
   ]
  },
  {
   "cell_type": "markdown",
   "id": "8ec0a1ba",
   "metadata": {},
   "source": [
    "**4.0 is the most common rating by the users to the movies**"
   ]
  },
  {
   "cell_type": "code",
   "execution_count": 6,
   "id": "d8677726",
   "metadata": {},
   "outputs": [
    {
     "data": {
      "text/plain": [
       "<AxesSubplot:ylabel='Count'>"
      ]
     },
     "execution_count": 6,
     "metadata": {},
     "output_type": "execute_result"
    },
    {
     "data": {
      "image/png": "[encoded data removed]",
      "text/plain": [
       "<Figure size 432x288 with 1 Axes>"
      ]
     },
     "metadata": {
      "needs_background": "light"
     },
     "output_type": "display_data"
    }
   ],
   "source": [
    "#Checking long tails for movies\n",
    "movie_counts = data.groupby('movieID')['movieID'].count().values\n",
    "sns.histplot(movie_counts)"
   ]
  },
  {
   "cell_type": "code",
   "execution_count": 7,
   "id": "c85b5c76",
   "metadata": {},
   "outputs": [
    {
     "data": {
      "image/png": "[encoded data removed]",
      "text/plain": [
       "<Figure size 432x288 with 1 Axes>"
      ]
     },
     "metadata": {
      "needs_background": "light"
     },
     "output_type": "display_data"
    }
   ],
   "source": [
    "#movie distribution on log scale\n",
    "\n",
    "plt.plot(sorted(movie_counts,reverse = True))\n",
    "plt.yscale('log')\n",
    "plt.show()"
   ]
  },
  {
   "cell_type": "code",
   "execution_count": 8,
   "id": "a2b35108",
   "metadata": {},
   "outputs": [
    {
     "data": {
      "text/plain": [
       "<AxesSubplot:ylabel='Count'>"
      ]
     },
     "execution_count": 8,
     "metadata": {},
     "output_type": "execute_result"
    },
    {
     "data": {
      "image/png": "[encoded data removed]",
      "text/plain": [
       "<Figure size 432x288 with 1 Axes>"
      ]
     },
     "metadata": {
      "needs_background": "light"
     },
     "output_type": "display_data"
    }
   ],
   "source": [
    "#checking long tail for users\n",
    "user_counts = data.groupby('userID')['userID'].count().values\n",
    "sns.histplot(user_counts)"
   ]
  },
  {
   "cell_type": "code",
   "execution_count": 9,
   "id": "9927190a",
   "metadata": {},
   "outputs": [
    {
     "data": {
      "image/png": "[encoded data removed]",
      "text/plain": [
       "<Figure size 432x288 with 1 Axes>"
      ]
     },
     "metadata": {
      "needs_background": "light"
     },
     "output_type": "display_data"
    }
   ],
   "source": [
    "#user distribution on log scale\n",
    "plt.plot(sorted(user_counts,reverse = True))\n",
    "plt.yscale('log')\n",
    "plt.show()"
   ]
  },
  {
   "cell_type": "markdown",
   "id": "708ddead",
   "metadata": {},
   "source": [
    "# Item based similarties"
   ]
  },
  {
   "cell_type": "markdown",
   "id": "25108b84",
   "metadata": {},
   "source": [
    "## Reading the movies data"
   ]
  },
  {
   "cell_type": "code",
   "execution_count": 10,
   "id": "3833e1f6",
   "metadata": {},
   "outputs": [
    {
     "name": "stdout",
     "output_type": "stream",
     "text": [
      "Initial content in  movies.dat\n"
     ]
    },
    {
     "data": {
      "text/html": [
       "<div>\n",
       "<style scoped>\n",
       "    .dataframe tbody tr th:only-of-type {\n",
       "        vertical-align: middle;\n",
       "    }\n",
       "\n",
       "    .dataframe tbody tr th {\n",
       "        vertical-align: top;\n",
       "    }\n",
       "\n",
       "    .dataframe thead th {\n",
       "        text-align: right;\n",
       "    }\n",
       "</style>\n",
       "<table border=\"1\" class=\"dataframe\">\n",
       "  <thead>\n",
       "    <tr style=\"text-align: right;\">\n",
       "      <th></th>\n",
       "      <th>id</th>\n",
       "      <th>title</th>\n",
       "      <th>imdbID</th>\n",
       "      <th>spanishTitle</th>\n",
       "      <th>imdbPictureURL</th>\n",
       "      <th>year</th>\n",
       "      <th>rtID</th>\n",
       "      <th>rtAllCriticsRating</th>\n",
       "      <th>rtAllCriticsNumReviews</th>\n",
       "      <th>rtAllCriticsNumFresh</th>\n",
       "      <th>...</th>\n",
       "      <th>rtAllCriticsScore</th>\n",
       "      <th>rtTopCriticsRating</th>\n",
       "      <th>rtTopCriticsNumReviews</th>\n",
       "      <th>rtTopCriticsNumFresh</th>\n",
       "      <th>rtTopCriticsNumRotten</th>\n",
       "      <th>rtTopCriticsScore</th>\n",
       "      <th>rtAudienceRating</th>\n",
       "      <th>rtAudienceNumRatings</th>\n",
       "      <th>rtAudienceScore</th>\n",
       "      <th>rtPictureURL</th>\n",
       "    </tr>\n",
       "  </thead>\n",
       "  <tbody>\n",
       "    <tr>\n",
       "      <th>0</th>\n",
       "      <td>1</td>\n",
       "      <td>Toy story</td>\n",
       "      <td>114709</td>\n",
       "      <td>Toy story (juguetes)</td>\n",
       "      <td>http://ia.media-imdb.com/images/M/MV5BMTMwNDU0...</td>\n",
       "      <td>1995</td>\n",
       "      <td>toy_story</td>\n",
       "      <td>9</td>\n",
       "      <td>73</td>\n",
       "      <td>73</td>\n",
       "      <td>...</td>\n",
       "      <td>100</td>\n",
       "      <td>8.5</td>\n",
       "      <td>17</td>\n",
       "      <td>17</td>\n",
       "      <td>0</td>\n",
       "      <td>100</td>\n",
       "      <td>3.7</td>\n",
       "      <td>102338</td>\n",
       "      <td>81</td>\n",
       "      <td>http://content7.flixster.com/movie/10/93/63/10...</td>\n",
       "    </tr>\n",
       "    <tr>\n",
       "      <th>1</th>\n",
       "      <td>2</td>\n",
       "      <td>Jumanji</td>\n",
       "      <td>113497</td>\n",
       "      <td>Jumanji</td>\n",
       "      <td>http://ia.media-imdb.com/images/M/MV5BMzM5NjE1...</td>\n",
       "      <td>1995</td>\n",
       "      <td>1068044-jumanji</td>\n",
       "      <td>5.6</td>\n",
       "      <td>28</td>\n",
       "      <td>13</td>\n",
       "      <td>...</td>\n",
       "      <td>46</td>\n",
       "      <td>5.8</td>\n",
       "      <td>5</td>\n",
       "      <td>2</td>\n",
       "      <td>3</td>\n",
       "      <td>40</td>\n",
       "      <td>3.2</td>\n",
       "      <td>44587</td>\n",
       "      <td>61</td>\n",
       "      <td>http://content8.flixster.com/movie/56/79/73/56...</td>\n",
       "    </tr>\n",
       "    <tr>\n",
       "      <th>2</th>\n",
       "      <td>3</td>\n",
       "      <td>Grumpy Old Men</td>\n",
       "      <td>107050</td>\n",
       "      <td>Dos viejos gruñones</td>\n",
       "      <td>http://ia.media-imdb.com/images/M/MV5BMTI5MTgy...</td>\n",
       "      <td>1993</td>\n",
       "      <td>grumpy_old_men</td>\n",
       "      <td>5.9</td>\n",
       "      <td>36</td>\n",
       "      <td>24</td>\n",
       "      <td>...</td>\n",
       "      <td>66</td>\n",
       "      <td>7</td>\n",
       "      <td>6</td>\n",
       "      <td>5</td>\n",
       "      <td>1</td>\n",
       "      <td>83</td>\n",
       "      <td>3.2</td>\n",
       "      <td>10489</td>\n",
       "      <td>66</td>\n",
       "      <td>http://content6.flixster.com/movie/25/60/25602...</td>\n",
       "    </tr>\n",
       "    <tr>\n",
       "      <th>3</th>\n",
       "      <td>4</td>\n",
       "      <td>Waiting to Exhale</td>\n",
       "      <td>114885</td>\n",
       "      <td>Esperando un respiro</td>\n",
       "      <td>http://ia.media-imdb.com/images/M/MV5BMTczMTMy...</td>\n",
       "      <td>1995</td>\n",
       "      <td>waiting_to_exhale</td>\n",
       "      <td>5.6</td>\n",
       "      <td>25</td>\n",
       "      <td>14</td>\n",
       "      <td>...</td>\n",
       "      <td>56</td>\n",
       "      <td>5.5</td>\n",
       "      <td>11</td>\n",
       "      <td>5</td>\n",
       "      <td>6</td>\n",
       "      <td>45</td>\n",
       "      <td>3.3</td>\n",
       "      <td>5666</td>\n",
       "      <td>79</td>\n",
       "      <td>http://content9.flixster.com/movie/10/94/17/10...</td>\n",
       "    </tr>\n",
       "    <tr>\n",
       "      <th>4</th>\n",
       "      <td>5</td>\n",
       "      <td>Father of the Bride Part II</td>\n",
       "      <td>113041</td>\n",
       "      <td>Vuelve el padre de la novia (Ahora también abu...</td>\n",
       "      <td>http://ia.media-imdb.com/images/M/MV5BMTg1NDc2...</td>\n",
       "      <td>1995</td>\n",
       "      <td>father_of_the_bride_part_ii</td>\n",
       "      <td>5.3</td>\n",
       "      <td>19</td>\n",
       "      <td>9</td>\n",
       "      <td>...</td>\n",
       "      <td>47</td>\n",
       "      <td>5.4</td>\n",
       "      <td>5</td>\n",
       "      <td>1</td>\n",
       "      <td>4</td>\n",
       "      <td>20</td>\n",
       "      <td>3</td>\n",
       "      <td>13761</td>\n",
       "      <td>64</td>\n",
       "      <td>http://content8.flixster.com/movie/25/54/25542...</td>\n",
       "    </tr>\n",
       "  </tbody>\n",
       "</table>\n",
       "<p>5 rows × 21 columns</p>\n",
       "</div>"
      ],
      "text/plain": [
       "   id                        title  imdbID  \\\n",
       "0   1                    Toy story  114709   \n",
       "1   2                      Jumanji  113497   \n",
       "2   3               Grumpy Old Men  107050   \n",
       "3   4            Waiting to Exhale  114885   \n",
       "4   5  Father of the Bride Part II  113041   \n",
       "\n",
       "                                        spanishTitle  \\\n",
       "0                               Toy story (juguetes)   \n",
       "1                                            Jumanji   \n",
       "2                                Dos viejos gruñones   \n",
       "3                               Esperando un respiro   \n",
       "4  Vuelve el padre de la novia (Ahora también abu...   \n",
       "\n",
       "                                      imdbPictureURL  year  \\\n",
       "0  http://ia.media-imdb.com/images/M/MV5BMTMwNDU0...  1995   \n",
       "1  http://ia.media-imdb.com/images/M/MV5BMzM5NjE1...  1995   \n",
       "2  http://ia.media-imdb.com/images/M/MV5BMTI5MTgy...  1993   \n",
       "3  http://ia.media-imdb.com/images/M/MV5BMTczMTMy...  1995   \n",
       "4  http://ia.media-imdb.com/images/M/MV5BMTg1NDc2...  1995   \n",
       "\n",
       "                          rtID rtAllCriticsRating rtAllCriticsNumReviews  \\\n",
       "0                    toy_story                  9                     73   \n",
       "1              1068044-jumanji                5.6                     28   \n",
       "2               grumpy_old_men                5.9                     36   \n",
       "3            waiting_to_exhale                5.6                     25   \n",
       "4  father_of_the_bride_part_ii                5.3                     19   \n",
       "\n",
       "  rtAllCriticsNumFresh  ... rtAllCriticsScore rtTopCriticsRating  \\\n",
       "0                   73  ...               100                8.5   \n",
       "1                   13  ...                46                5.8   \n",
       "2                   24  ...                66                  7   \n",
       "3                   14  ...                56                5.5   \n",
       "4                    9  ...                47                5.4   \n",
       "\n",
       "  rtTopCriticsNumReviews rtTopCriticsNumFresh rtTopCriticsNumRotten  \\\n",
       "0                     17                   17                     0   \n",
       "1                      5                    2                     3   \n",
       "2                      6                    5                     1   \n",
       "3                     11                    5                     6   \n",
       "4                      5                    1                     4   \n",
       "\n",
       "  rtTopCriticsScore rtAudienceRating rtAudienceNumRatings rtAudienceScore  \\\n",
       "0               100              3.7               102338              81   \n",
       "1                40              3.2                44587              61   \n",
       "2                83              3.2                10489              66   \n",
       "3                45              3.3                 5666              79   \n",
       "4                20                3                13761              64   \n",
       "\n",
       "                                        rtPictureURL  \n",
       "0  http://content7.flixster.com/movie/10/93/63/10...  \n",
       "1  http://content8.flixster.com/movie/56/79/73/56...  \n",
       "2  http://content6.flixster.com/movie/25/60/25602...  \n",
       "3  http://content9.flixster.com/movie/10/94/17/10...  \n",
       "4  http://content8.flixster.com/movie/25/54/25542...  \n",
       "\n",
       "[5 rows x 21 columns]"
      ]
     },
     "execution_count": 10,
     "metadata": {},
     "output_type": "execute_result"
    }
   ],
   "source": [
    "target_file='movies.dat'\n",
    "print('Initial content in ', target_file)\n",
    "with zipfile.ZipFile(dataset_name) as z:\n",
    "   with z.open(target_file) as f:\n",
    "      movies = pd.read_csv(f, header=0, delimiter=\"\\t\",encoding = 'ISO-8859-1')\n",
    "    \n",
    "movies.head()  # print the first 5 rows"
   ]
  },
  {
   "cell_type": "code",
   "execution_count": 11,
   "id": "bda7d428",
   "metadata": {},
   "outputs": [],
   "source": [
    "#joining the ratings data with movies to get the movie names\n",
    "data2 = data.merge(movies,how = 'left',left_on = 'movieID', right_on = 'id')"
   ]
  },
  {
   "cell_type": "code",
   "execution_count": 12,
   "id": "fc6f56d8",
   "metadata": {},
   "outputs": [],
   "source": [
    "#Final ratings data with movie names\n",
    "ratings = data2[['userID','movieID','rating','title']]"
   ]
  },
  {
   "cell_type": "markdown",
   "id": "40de7a92",
   "metadata": {},
   "source": [
    "## Splitting the data for future evaluation"
   ]
  },
  {
   "cell_type": "code",
   "execution_count": 13,
   "id": "57346bc1",
   "metadata": {},
   "outputs": [],
   "source": [
    "random.seed(1)\n",
    "\n",
    "ratio=0.8 # 80% of the data is kept in training\n",
    "mask = np.random.rand(len(ratings)) < ratio\n",
    "train_ratings = ratings[mask]\n",
    "test_ratings = ratings[~mask]\n",
    "\n",
    "pd.to_pickle(train_ratings, 'train_df', protocol=4)\n",
    "pd.to_pickle(test_ratings, 'test_df', protocol=4)"
   ]
  },
  {
   "cell_type": "code",
   "execution_count": 14,
   "id": "dcea4f82",
   "metadata": {},
   "outputs": [
    {
     "name": "stdout",
     "output_type": "stream",
     "text": [
      "Total:855598, Train: 683989,Test:171609\n"
     ]
    }
   ],
   "source": [
    "#Loading the whole data from pickle files\n",
    "train_ratings = pd.read_pickle('train_df')\n",
    "test_ratings = pd.read_pickle('test_df')\n",
    "\n",
    "print(f'Total:{len(ratings)}, Train: {len(train_ratings)},Test:{len(test_ratings)}')"
   ]
  },
  {
   "cell_type": "code",
   "execution_count": 15,
   "id": "036123b0",
   "metadata": {},
   "outputs": [
    {
     "data": {
      "text/plain": [
       "set()"
      ]
     },
     "execution_count": 15,
     "metadata": {},
     "output_type": "execute_result"
    }
   ],
   "source": [
    "#check if every user which is in test data is also in training\n",
    "\n",
    "set(test_ratings['userID']).difference(set(train_ratings['userID']))"
   ]
  },
  {
   "cell_type": "code",
   "execution_count": 16,
   "id": "6084878e",
   "metadata": {},
   "outputs": [
    {
     "data": {
      "text/plain": [
       "130"
      ]
     },
     "execution_count": 16,
     "metadata": {},
     "output_type": "execute_result"
    }
   ],
   "source": [
    "#check if every movie which is in test data is also in training\n",
    "\n",
    "len(set(test_ratings['movieID']).difference(set(train_ratings['movieID'])))"
   ]
  },
  {
   "cell_type": "code",
   "execution_count": 17,
   "id": "3bc6ac1d",
   "metadata": {},
   "outputs": [],
   "source": [
    "#these movies should not be considered when evaluting the recommender\n",
    "excluded_movies = set(test_ratings['movieID']).difference(set(train_ratings['movieID']))"
   ]
  },
  {
   "cell_type": "code",
   "execution_count": 18,
   "id": "92b27e9e",
   "metadata": {},
   "outputs": [],
   "source": [
    "#Utility matrix for item based similarities (movies in rows and users in columns)\n",
    "\n",
    "def create_X_items(df):\n",
    "    \"\"\"\n",
    "    Generates a sparse matrix from ratings dataframe.\n",
    "\n",
    "    Args:\n",
    "        df: pandas dataframe containing 3 columns (userId, movieId, rating)\n",
    "\n",
    "    Returns:\n",
    "        X: sparse matrix\n",
    "        user_mapper: dict that maps user id's to user indices\n",
    "        user_inv_mapper: dict that maps user indices to user id's\n",
    "        movie_mapper: dict that maps movie id's to movie indices\n",
    "        movie_inv_mapper: dict that maps movie indices to movie id's\n",
    "    \"\"\"\n",
    "    M = df['movieID'].nunique()\n",
    "    N = df['userID'].nunique()\n",
    "\n",
    "    user_mapper = dict(zip(np.unique(df[\"userID\"]), list(range(N))))\n",
    "    movie_mapper = dict(zip(np.unique(df[\"movieID\"]), list(range(M))))\n",
    "\n",
    "    user_inv_mapper = dict(zip(list(range(N)), np.unique(df[\"userID\"])))\n",
    "    movie_inv_mapper = dict(zip(list(range(M)), np.unique(df[\"movieID\"])))\n",
    "    movie_name_mapper = dict(zip(ratings['movieID'],ratings['title']))\n",
    "\n",
    "    user_index = [user_mapper[i] for i in df['userID']]\n",
    "    item_index = [movie_mapper[i] for i in df['movieID']]\n",
    "\n",
    "    X = csr_matrix((df[\"rating\"], (item_index,user_index)), shape=(M,N))\n",
    "\n",
    "    return X, user_mapper, movie_mapper, user_inv_mapper, movie_inv_mapper,movie_name_mapper\n",
    "\n",
    "X_items, user_mapper, movie_mapper, user_inv_mapper, movie_inv_mapper,movie_name_mapper = create_X_items(train_ratings)\n"
   ]
  },
  {
   "cell_type": "code",
   "execution_count": 19,
   "id": "b406db37",
   "metadata": {},
   "outputs": [],
   "source": [
    "#computing the items cosine similarity\n",
    "from sklearn.metrics.pairwise import cosine_similarity\n",
    "\n",
    "item_cos_sim = cosine_similarity(X_items)"
   ]
  },
  {
   "cell_type": "code",
   "execution_count": 20,
   "id": "aa946661",
   "metadata": {},
   "outputs": [],
   "source": [
    "#item_cos_sim[2316,1083]"
   ]
  },
  {
   "cell_type": "markdown",
   "id": "979c2a7c",
   "metadata": {},
   "source": [
    "# User based similarities"
   ]
  },
  {
   "cell_type": "code",
   "execution_count": 21,
   "id": "1eb7d3ab",
   "metadata": {},
   "outputs": [],
   "source": [
    "#Utility matrix for user based similarities (users in rows and items in columns)\n",
    "\n",
    "def create_X_users(df):\n",
    "    \"\"\"\n",
    "    Generates a sparse matrix from ratings dataframe. (Users * Items)\n",
    "\n",
    "    Args:\n",
    "        df: pandas dataframe containing 3 columns (userId, movieId, rating)\n",
    "\n",
    "    Returns:\n",
    "        X: sparse matrix\n",
    "        user_mapper: dict that maps user id's to user indices\n",
    "        user_inv_mapper: dict that maps user indices to user id's\n",
    "        movie_mapper: dict that maps movie id's to movie indices\n",
    "        movie_inv_mapper: dict that maps movie indices to movie id's\n",
    "    \"\"\"\n",
    "    M = df['userID'].nunique()\n",
    "    N = df['movieID'].nunique()\n",
    "\n",
    "    user_mapper = dict(zip(np.unique(df[\"userID\"]), list(range(M))))\n",
    "    movie_mapper = dict(zip(np.unique(df[\"movieID\"]), list(range(N))))\n",
    "    movie_name_mapper = dict(zip(ratings['movieID'],ratings['title']))\n",
    "\n",
    "    user_inv_mapper = dict(zip(list(range(M)), np.unique(df[\"userID\"])))\n",
    "    movie_inv_mapper = dict(zip(list(range(N)), np.unique(df[\"movieID\"])))\n",
    "\n",
    "    user_index = [user_mapper[i] for i in df['userID']]\n",
    "    item_index = [movie_mapper[i] for i in df['movieID']]\n",
    "\n",
    "    X = csr_matrix((df[\"rating\"], (user_index,item_index)), shape=(M,N))\n",
    "\n",
    "    return X, user_mapper, movie_mapper, user_inv_mapper, movie_inv_mapper,movie_name_mapper\n",
    "\n",
    "X_users, user_mapper, movie_mapper, user_inv_mapper, movie_inv_mapper,movie_name_mapper = create_X_users(train_ratings)"
   ]
  },
  {
   "cell_type": "code",
   "execution_count": 22,
   "id": "aabbfbe2",
   "metadata": {},
   "outputs": [],
   "source": [
    "user_cos_sim = cosine_similarity(X_users)"
   ]
  },
  {
   "cell_type": "code",
   "execution_count": 23,
   "id": "ba7d087e",
   "metadata": {},
   "outputs": [],
   "source": [
    "#user_cos_sim[432,668]"
   ]
  },
  {
   "cell_type": "markdown",
   "id": "449d0bc0",
   "metadata": {},
   "source": [
    "## Computing item based recommendations"
   ]
  },
  {
   "cell_type": "code",
   "execution_count": 24,
   "id": "de6fd785",
   "metadata": {},
   "outputs": [],
   "source": [
    "def candidate_items_for_user(data, user):\n",
    "    \"\"\"\n",
    "    Returns the candidate movies which can be recommended to a uset\n",
    "\n",
    "    Args:\n",
    "        data: train ratings data (pandas dataframe)\n",
    "\n",
    "    Returns:\n",
    "        a set of candidate movie id's\n",
    "    \"\"\"\n",
    "    all_movies = set(data['movieID'].unique())\n",
    "    user_movies = set(data[data['userID'] == user]['movieID'].unique())\n",
    "    cand_items = all_movies.difference(user_movies)\n",
    "    return set(cand_items)"
   ]
  },
  {
   "cell_type": "code",
   "execution_count": 26,
   "id": "fe165c29",
   "metadata": {},
   "outputs": [],
   "source": [
    "def itembased_recommender(train_df,user):\n",
    "    \"\"\"\n",
    "    Generates a dictionary with movies as keys and predicted ratings a values for a user (sorted by values in desc)\n",
    "\n",
    "    Args:\n",
    "        train_df: training ratings data (pandas dataframe)\n",
    "        user: userid (int)\n",
    "\n",
    "    Returns:\n",
    "        A dictionary of movies, predicting ratings sorted by predicted ratings\n",
    "    \"\"\"\n",
    "    cand_items = candidate_items_for_user(train_df,user)\n",
    "    cand_scores = {}\n",
    "    \n",
    "    for cand in cand_items:\n",
    "        score = 0\n",
    "        den = 0\n",
    "        sims = []\n",
    "        \n",
    "        user_df = train_df[train_df['userID'] == user]\n",
    "        user_train_movies = user_df['movieID']\n",
    "        user_train_ratings = user_df['rating']\n",
    "        \n",
    "        for movieid in user_train_movies:\n",
    "            movie_index = movie_mapper[movieid]\n",
    "            cand_movie_index = movie_mapper[cand]\n",
    "            \n",
    "            sim = item_cos_sim[movie_index,cand_movie_index]\n",
    "            sims.append(sim)\n",
    "\n",
    "        score += np.array(user_train_ratings)@np.array(sims)\n",
    "        den += np.sum(sims)\n",
    "        if den == 0:\n",
    "            score = 0\n",
    "        else:\n",
    "            score = score/den\n",
    "\n",
    "        cand_scores[cand] = score\n",
    "        \n",
    "    return dict(sorted(cand_scores.items(),key = lambda cand_scores:cand_scores[1],reverse = True))"
   ]
  },
  {
   "cell_type": "code",
   "execution_count": 27,
   "id": "7b7953d3",
   "metadata": {},
   "outputs": [
    {
     "name": "stdout",
     "output_type": "stream",
     "text": [
      "7.997180938720703\n"
     ]
    }
   ],
   "source": [
    "#generate predicted ratings for a user based in item based collaborative filtering\n",
    "import time\n",
    "t0 = time.time()\n",
    "itembased_recommender(train_ratings,75)\n",
    "print(time.time()-t0)"
   ]
  },
  {
   "cell_type": "code",
   "execution_count": 28,
   "id": "39761ec4",
   "metadata": {},
   "outputs": [
    {
     "name": "stdout",
     "output_type": "stream",
     "text": [
      "0 Earth: Final Conflict\n",
      "1 We're Not Married!\n",
      "2 Asfour Stah\n",
      "3 A Little Bit of Soul\n",
      "4 Tout près des étoiles: Les danseurs de l'Opéra de Paris\n",
      "5 Naturally Native\n",
      "6 Le bossu\n",
      "7 I, Madman\n",
      "8 Milk and Honey\n",
      "9 Two Men Went to War\n"
     ]
    }
   ],
   "source": [
    "#top 10 recommendations for a user\n",
    "for i,movieid in enumerate(itembased_recommender(train_ratings,75)):\n",
    "    if i <=9:\n",
    "        print(i,movie_name_mapper[movieid])"
   ]
  },
  {
   "cell_type": "code",
   "execution_count": 29,
   "id": "5f3eaf33",
   "metadata": {},
   "outputs": [],
   "source": [
    "test_users = list(test_ratings['userID'].unique())\n",
    "test_users = [75]\n",
    "\n",
    "abs_error = 0\n",
    "sq_error = 0\n",
    "n = 0\n",
    "\n",
    "for user in test_users:\n",
    "    user_pred_ratings = itembased_recommender(train_ratings,user)\n",
    "    test_user_data = test_ratings[test_ratings['userID'] == user]\n",
    "    for index,row in test_user_data.iterrows():\n",
    "        m_id = row['movieID']\n",
    "        pred_rating = user_pred_ratings[m_id]\n",
    "        act_rating = row['rating']\n",
    "        abs_error += np.abs(pred_rating - act_rating)\n",
    "        sq_error += abs_error**2\n",
    "        n += 1\n",
    "mae = abs_error/n\n",
    "rmse = np.sqrt(sq_error/n)"
   ]
  },
  {
   "cell_type": "code",
   "execution_count": 30,
   "id": "855599e1",
   "metadata": {},
   "outputs": [
    {
     "data": {
      "text/plain": [
       "(0.6188689426742401, 2.2844922939295955)"
      ]
     },
     "execution_count": 30,
     "metadata": {},
     "output_type": "execute_result"
    }
   ],
   "source": [
    "mae,rmse"
   ]
  },
  {
   "cell_type": "markdown",
   "id": "a5bad797",
   "metadata": {},
   "source": [
    "## User based recommender"
   ]
  },
  {
   "cell_type": "code",
   "execution_count": 31,
   "id": "edc94412",
   "metadata": {},
   "outputs": [],
   "source": [
    "def userbased_score(data, user, candidate,neighbours):\n",
    "    \"\"\"\n",
    "    Computes the weighted rating for a candiate item based on neighbours similarity.\n",
    "    \n",
    "    Args:\n",
    "        data: training ratings data (pandas dataframe)\n",
    "        user: userid (int)\n",
    "        candidate: candidate movieid (int)\n",
    "        neighbours: nearest neighbours based on similarity (list)\n",
    "\n",
    "    Returns:\n",
    "        A dictionary of movies, predicting ratings sorted by predicted ratings\n",
    "    \"\"\"\n",
    "    score = 0\n",
    "    sims = 0\n",
    "    rows = data[data['movieID'] == candidate]\n",
    "    #check if the candidate item is rated by atleast 2 neighbour users. If we don't apply a cutoff then weighted rating\n",
    "    #will be same as the neighbor which does not make much sense. This cutoff can be hyperparamter too\n",
    "    if (pd.Series(rows['userID'].unique()).isin(neighbours).sum()) >= 2:\n",
    "        \n",
    "        for neighbour in neighbours:\n",
    "            \n",
    "            rows = data[(data['userID'] == neighbour) & (data['movieID'] == candidate)]\n",
    "            \n",
    "            if len(rows) > 0:\n",
    "                sim = user_cos_sim[user_mapper[neighbour],user_mapper[user]]\n",
    "                rating = rows['rating'].iloc[0]\n",
    "                score += sim*rating\n",
    "                sims += sim\n",
    "                \n",
    "    return 0.0 if sims == 0 else score/sims"
   ]
  },
  {
   "cell_type": "code",
   "execution_count": 32,
   "id": "715743a3",
   "metadata": {},
   "outputs": [],
   "source": [
    "def userbased_recommender(data,user,k_neigbours):\n",
    "    \"\"\"\n",
    "    Generates a dictionary with movies as keys and predicted ratings a values for a user (sorted by values in desc)\n",
    "\n",
    "    Args:\n",
    "        data: training ratings data (pandas dataframe)\n",
    "        user: userid (int)\n",
    "        k_neighbours: Number of neighbours to be considered similar to the user (int)\n",
    "\n",
    "    Returns:\n",
    "        A dictionary of movies, predicting ratings sorted by predicted ratings\n",
    "    \"\"\"\n",
    "    cand_items = candidate_items_for_user(data,user)\n",
    "    cand_scores = {}\n",
    "    \n",
    "    #getting the k neareset users based on similarities. The k could be a hyperparamter\n",
    "    user_sims = {}\n",
    "    for u in list(data['userID'].unique()):\n",
    "        if u == user:\n",
    "            continue\n",
    "        sim = user_cos_sim[user_mapper[u],user_mapper[user]]\n",
    "        user_sims[u] = sim\n",
    "        \n",
    "    neighbours = list(dict(sorted(user_sims.items(),key = lambda user_sims:user_sims[1],reverse = True)[:k_neigbours]).keys())\n",
    "    \n",
    "    for cand in cand_items:\n",
    "        score = userbased_score(data, user, cand,neighbours)\n",
    "        cand_scores[cand] = score\n",
    "    return dict(sorted(cand_scores.items(),key = lambda cand_scores:cand_scores[1],reverse = True))\n"
   ]
  },
  {
   "cell_type": "code",
   "execution_count": 33,
   "id": "e774aecd",
   "metadata": {},
   "outputs": [
    {
     "name": "stdout",
     "output_type": "stream",
     "text": [
      "16.11081099510193\n"
     ]
    }
   ],
   "source": [
    "#generate predicted ratings for a user based in user based collaborative filtering\n",
    "import time\n",
    "t0 = time.time()\n",
    "userbased_recommender(train_ratings,75,10)\n",
    "print(time.time()-t0)"
   ]
  },
  {
   "cell_type": "code",
   "execution_count": 34,
   "id": "f8c086c8",
   "metadata": {},
   "outputs": [
    {
     "name": "stdout",
     "output_type": "stream",
     "text": [
      "0 Interview with the Vampire: The Vampire Chronicles\n",
      "1 Borat: Cultural Learnings of America for Make Benefit Glorious Nation of Kazakhstan\n",
      "2 Crash\n",
      "3 The Matrix\n",
      "4 Zatôichi\n",
      "5 Léon\n",
      "6 Requiem for a Dream\n",
      "7 Lock, Stock and Two Smoking Barrels\n",
      "8 300\n",
      "9 Fight Club\n"
     ]
    }
   ],
   "source": [
    "#top 10 recommendations for a user\n",
    "for i,movieid in enumerate(userbased_recommender(train_ratings,75,10)):\n",
    "    if i <=9:\n",
    "        print(i,movie_name_mapper[movieid])"
   ]
  },
  {
   "cell_type": "markdown",
   "id": "650bd1d8",
   "metadata": {},
   "source": [
    "## Evaluating the recommender"
   ]
  },
  {
   "cell_type": "code",
   "execution_count": 38,
   "id": "3e8870c5",
   "metadata": {},
   "outputs": [],
   "source": [
    "def evaluate_recommender(train_df,test_df,recommender_type):\n",
    "    \"\"\"\n",
    "    Generates the MAE and RMSE score for the recommender type\n",
    "\n",
    "    Args:\n",
    "        train_df: training ratings data (pandas dataframe)\n",
    "        test_df: testing ratings data (pandas dataframe)\n",
    "        recommender_type: type of collaborative filtering recommender (userbased or itembased)\n",
    "    Returns:\n",
    "        MAE and RMSE score (tuple)\n",
    "    \"\"\"\n",
    "    test_df = test_df[~test_df['movieID'].isin(excluded_movies)]      #exclude the excluded movies\n",
    "    test_users = list(test_df['userID'].unique())\n",
    "\n",
    "    abs_err = 0\n",
    "    sq_err = 0\n",
    "    n = 0\n",
    "\n",
    "    for userid in test_users:\n",
    "        if recommender_type == 'itembased':\n",
    "            user_pred_ratings_dic = itembased_recommender(train_df,userid)\n",
    "        elif recommender_type == 'userbased':\n",
    "            user_pred_ratings_dic = userbased_recommender(train_df,userid,10)\n",
    "        else:\n",
    "            print(\"Please check the recommender type\")\n",
    "        user_test_df = test_df[test_df['userID'] == userid]\n",
    "        user_test_movies = list(user_test_df['movieID'])\n",
    "        user_actual_ratings = np.array(user_test_df[user_test_df['movieID'] == user_test_movies]['rating'])\n",
    "        \n",
    "        user_pred_ratings = np.array([user_pred_ratings_dic[x] for x in user_test_movies])\n",
    "        \n",
    "        abs_err += np.sum(np.abs(np.subtract(user_actual_ratings,user_pred_ratings)))\n",
    "        sq_err += np.sum(np.subtract(user_actual_ratings,user_pred_ratings)**2)\n",
    "        n += len(user_actual_ratings)\n",
    "\n",
    "    mae = abs_err/n\n",
    "    rmse = np.sqrt(sq_err/n)\n",
    "    return mae, rmse"
   ]
  },
  {
   "cell_type": "code",
   "execution_count": 39,
   "id": "45200caf",
   "metadata": {},
   "outputs": [
    {
     "name": "stdout",
     "output_type": "stream",
     "text": [
      "MAE:0.691,RMSE:0.902\n"
     ]
    }
   ],
   "source": [
    "#evaluating the item based collaborative filtering recommender\n",
    "item_mae,item_rmse = evaluate_recommender(train_ratings,test_ratings,'itembased')\n",
    "print(f'MAE:{round(item_mae,3)},RMSE:{round(item_rmse,3)}')"
   ]
  },
  {
   "cell_type": "code",
   "execution_count": 42,
   "id": "1b178bf9",
   "metadata": {},
   "outputs": [
    {
     "name": "stdout",
     "output_type": "stream",
     "text": [
      "MAE:1.346,RMSE:1.897\n"
     ]
    }
   ],
   "source": [
    "#evaluating the user based collaborative filtering recommender\n",
    "user_mae,user_rmse = evaluate_recommender(train_ratings,test_ratings,'userbased')\n",
    "print(f'MAE:{round(user_mae,3)},RMSE:{round(user_rmse,3)}')"
   ]
  },
  {
   "cell_type": "markdown",
   "id": "fb92c9fb",
   "metadata": {},
   "source": [
    "**1. Item based collaborative fitering has lower RMSE than the User based collaborative Filtering**\n",
    "\n",
    "**2. The results depend on the hypemarameters like number of nearest neighbours and the type of similarity function**\n",
    "\n",
    "**3. These results should not be used to derive the insights on which recommender is better. Online AB testing should be done to compare the recommenders**"
   ]
  }
 ],
 "metadata": {
  "kernelspec": {
   "display_name": "Python 3 (ipykernel)",
   "language": "python",
   "name": "python3"
  },
  "language_info": {
   "codemirror_mode": {
    "name": "ipython",
    "version": 3
   },
   "file_extension": ".py",
   "mimetype": "text/x-python",
   "name": "python",
   "nbconvert_exporter": "python",
   "pygments_lexer": "ipython3",
   "version": "3.8.12"
  }
 },
 "nbformat": 4,
 "nbformat_minor": 5
}
